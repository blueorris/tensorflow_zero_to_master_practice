{
 "cells": [
  {
   "cell_type": "code",
   "execution_count": 1,
   "id": "2899c328",
   "metadata": {},
   "outputs": [],
   "source": [
    "import tensorflow as tf"
   ]
  },
  {
   "cell_type": "code",
   "execution_count": 2,
   "id": "d398628b",
   "metadata": {
    "scrolled": true
   },
   "outputs": [
    {
     "data": {
      "text/plain": [
       "<tf.Tensor: id=6, shape=(2, 3, 4, 5), dtype=float32, numpy=\n",
       "array([[[[0.5946728 , 0.8504107 , 0.9453808 , 0.01669943, 0.04965234],\n",
       "         [0.6505476 , 0.53596425, 0.78144205, 0.30099106, 0.83391106],\n",
       "         [0.77749133, 0.05834424, 0.40906346, 0.20359933, 0.28881943],\n",
       "         [0.9422455 , 0.9662969 , 0.7776294 , 0.40017235, 0.29348767]],\n",
       "\n",
       "        [[0.14954448, 0.8318533 , 0.4006511 , 0.5567336 , 0.83203435],\n",
       "         [0.9396932 , 0.43192422, 0.11512089, 0.66050386, 0.30559158],\n",
       "         [0.48491788, 0.5460279 , 0.9194999 , 0.52830136, 0.5340731 ],\n",
       "         [0.10136437, 0.9935181 , 0.08195198, 0.9520602 , 0.8299929 ]],\n",
       "\n",
       "        [[0.8451494 , 0.87296295, 0.9285543 , 0.78857994, 0.28002155],\n",
       "         [0.8151357 , 0.2294271 , 0.31927812, 0.6540221 , 0.6555997 ],\n",
       "         [0.96309435, 0.57878625, 0.4100287 , 0.11370695, 0.10104668],\n",
       "         [0.4678898 , 0.8936585 , 0.3297739 , 0.9712597 , 0.15244079]]],\n",
       "\n",
       "\n",
       "       [[[0.4385209 , 0.7455094 , 0.6993866 , 0.15616739, 0.3329463 ],\n",
       "         [0.15965605, 0.14349508, 0.92506063, 0.45063114, 0.32104087],\n",
       "         [0.16517162, 0.6484121 , 0.6873386 , 0.571614  , 0.7936561 ],\n",
       "         [0.10349703, 0.49673223, 0.88434184, 0.10847056, 0.8595636 ]],\n",
       "\n",
       "        [[0.49562705, 0.6698359 , 0.4294361 , 0.20201337, 0.3599013 ],\n",
       "         [0.55839217, 0.06848252, 0.66406775, 0.38946676, 0.5405555 ],\n",
       "         [0.9438269 , 0.41805255, 0.3863268 , 0.09479403, 0.38265002],\n",
       "         [0.55042267, 0.54534113, 0.8556402 , 0.06747723, 0.79887307]],\n",
       "\n",
       "        [[0.6312715 , 0.84692574, 0.76404357, 0.717788  , 0.05797243],\n",
       "         [0.5855855 , 0.17146361, 0.9989836 , 0.24069154, 0.1991353 ],\n",
       "         [0.54829264, 0.90112805, 0.5141456 , 0.85966516, 0.8651997 ],\n",
       "         [0.57129836, 0.78350174, 0.5314306 , 0.32943773, 0.96010613]]]],\n",
       "      dtype=float32)>"
      ]
     },
     "execution_count": 2,
     "metadata": {},
     "output_type": "execute_result"
    }
   ],
   "source": [
    "tensor = tf.random.uniform([2, 3, 4, 5])\n",
    "tensor"
   ]
  },
  {
   "cell_type": "code",
   "execution_count": 3,
   "id": "0e61c10b",
   "metadata": {},
   "outputs": [
    {
     "data": {
      "text/plain": [
       "<tf.Tensor: id=10, shape=(2, 2, 2, 2), dtype=float32, numpy=\n",
       "array([[[[0.5946728 , 0.8504107 ],\n",
       "         [0.6505476 , 0.53596425]],\n",
       "\n",
       "        [[0.14954448, 0.8318533 ],\n",
       "         [0.9396932 , 0.43192422]]],\n",
       "\n",
       "\n",
       "       [[[0.4385209 , 0.7455094 ],\n",
       "         [0.15965605, 0.14349508]],\n",
       "\n",
       "        [[0.49562705, 0.6698359 ],\n",
       "         [0.55839217, 0.06848252]]]], dtype=float32)>"
      ]
     },
     "execution_count": 3,
     "metadata": {},
     "output_type": "execute_result"
    }
   ],
   "source": [
    "# take the first 2 elements from every dim\n",
    "tensor[:2, :2, :2, :2]"
   ]
  },
  {
   "cell_type": "code",
   "execution_count": 4,
   "id": "bbfef052",
   "metadata": {},
   "outputs": [
    {
     "data": {
      "text/plain": [
       "<tf.Tensor: id=14, shape=(1, 1, 1, 5), dtype=float32, numpy=\n",
       "array([[[[0.5946728 , 0.8504107 , 0.9453808 , 0.01669943, 0.04965234]]]],\n",
       "      dtype=float32)>"
      ]
     },
     "execution_count": 4,
     "metadata": {},
     "output_type": "execute_result"
    }
   ],
   "source": [
    "# get the first element from every dim except the last one\n",
    "tensor[:1, :1, :1]"
   ]
  },
  {
   "cell_type": "code",
   "execution_count": 7,
   "id": "58b9b809",
   "metadata": {},
   "outputs": [],
   "source": [
    "# add extra dimentions\n",
    "rank_2_tensor = tf.constant([[2, 3],\n",
    "                             [1, 4]])"
   ]
  },
  {
   "cell_type": "code",
   "execution_count": 9,
   "id": "9c6f857b",
   "metadata": {},
   "outputs": [
    {
     "data": {
      "text/plain": [
       "<tf.Tensor: id=28, shape=(2, 2, 1), dtype=int32, numpy=\n",
       "array([[[2],\n",
       "        [3]],\n",
       "\n",
       "       [[1],\n",
       "        [4]]], dtype=int32)>"
      ]
     },
     "execution_count": 9,
     "metadata": {},
     "output_type": "execute_result"
    }
   ],
   "source": [
    "rank_3_tensor = rank_2_tensor[..., tf.newaxis] # the same as [:, :, tf.newaxis]\n",
    "rank_3_tensor"
   ]
  },
  {
   "cell_type": "code",
   "execution_count": 10,
   "id": "6e6ce171",
   "metadata": {},
   "outputs": [
    {
     "data": {
      "text/plain": [
       "<tf.Tensor: id=32, shape=(2, 2, 1, 1), dtype=int32, numpy=\n",
       "array([[[[2]],\n",
       "\n",
       "        [[3]]],\n",
       "\n",
       "\n",
       "       [[[1]],\n",
       "\n",
       "        [[4]]]], dtype=int32)>"
      ]
     },
     "execution_count": 10,
     "metadata": {},
     "output_type": "execute_result"
    }
   ],
   "source": [
    "rank_4_tensor = rank_3_tensor[..., tf.newaxis]\n",
    "rank_4_tensor"
   ]
  },
  {
   "cell_type": "code",
   "execution_count": 12,
   "id": "7612f2db",
   "metadata": {},
   "outputs": [
    {
     "data": {
      "text/plain": [
       "<tf.Tensor: id=34, shape=(2, 2, 1), dtype=int32, numpy=\n",
       "array([[[2],\n",
       "        [3]],\n",
       "\n",
       "       [[1],\n",
       "        [4]]], dtype=int32)>"
      ]
     },
     "execution_count": 12,
     "metadata": {},
     "output_type": "execute_result"
    }
   ],
   "source": [
    "# alternative to tf.newaxis\n",
    "tf.expand_dims(rank_2_tensor, axis=-1) # expand the last axis"
   ]
  },
  {
   "cell_type": "code",
   "execution_count": 14,
   "id": "e962622f",
   "metadata": {},
   "outputs": [
    {
     "data": {
      "text/plain": [
       "<tf.Tensor: id=38, shape=(1, 2, 2), dtype=int32, numpy=\n",
       "array([[[2, 3],\n",
       "        [1, 4]]], dtype=int32)>"
      ]
     },
     "execution_count": 14,
     "metadata": {},
     "output_type": "execute_result"
    }
   ],
   "source": [
    "tf.expand_dims(rank_2_tensor, axis=0) # expand the first axis"
   ]
  },
  {
   "cell_type": "code",
   "execution_count": 15,
   "id": "6de54e98",
   "metadata": {},
   "outputs": [
    {
     "data": {
      "text/plain": [
       "<tf.Tensor: id=20, shape=(2, 2), dtype=int32, numpy=\n",
       "array([[2, 3],\n",
       "       [1, 4]], dtype=int32)>"
      ]
     },
     "execution_count": 15,
     "metadata": {},
     "output_type": "execute_result"
    }
   ],
   "source": [
    "# the expanded tensor should be stored in another variable\n",
    "rank_2_tensor"
   ]
  },
  {
   "cell_type": "code",
   "execution_count": null,
   "id": "e443d7d6",
   "metadata": {},
   "outputs": [],
   "source": []
  }
 ],
 "metadata": {
  "kernelspec": {
   "display_name": "tf2",
   "language": "python",
   "name": "tf2"
  },
  "language_info": {
   "codemirror_mode": {
    "name": "ipython",
    "version": 3
   },
   "file_extension": ".py",
   "mimetype": "text/x-python",
   "name": "python",
   "nbconvert_exporter": "python",
   "pygments_lexer": "ipython3",
   "version": "3.7.0"
  }
 },
 "nbformat": 4,
 "nbformat_minor": 5
}
