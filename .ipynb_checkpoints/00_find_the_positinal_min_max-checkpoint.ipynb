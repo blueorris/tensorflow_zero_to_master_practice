{
 "cells": [
  {
   "cell_type": "code",
   "execution_count": 1,
   "id": "da6cfd44",
   "metadata": {},
   "outputs": [],
   "source": [
    "import tensorflow as tf"
   ]
  },
  {
   "cell_type": "code",
   "execution_count": 4,
   "id": "9471cd85",
   "metadata": {},
   "outputs": [],
   "source": [
    "tf.random.set_seed(41)\n",
    "a = tf.random.uniform([50], seed=3)"
   ]
  },
  {
   "cell_type": "code",
   "execution_count": 7,
   "id": "bacfbfe4",
   "metadata": {},
   "outputs": [
    {
     "data": {
      "text/plain": [
       "<tf.Tensor: id=14, shape=(50,), dtype=float32, numpy=\n",
       "array([0.03594315, 0.9475224 , 0.3934313 , 0.43417978, 0.50568235,\n",
       "       0.21072328, 0.48237073, 0.8182415 , 0.26402473, 0.99254084,\n",
       "       0.9930073 , 0.19414699, 0.89128995, 0.34834135, 0.41281986,\n",
       "       0.26735687, 0.58620584, 0.00805974, 0.80256116, 0.66327703,\n",
       "       0.5311347 , 0.6502478 , 0.12900686, 0.5559802 , 0.6647583 ,\n",
       "       0.5570109 , 0.74934626, 0.7436513 , 0.61916125, 0.87130296,\n",
       "       0.262403  , 0.54267824, 0.5414182 , 0.6564959 , 0.7927977 ,\n",
       "       0.08724391, 0.8380482 , 0.21141398, 0.82819736, 0.026052  ,\n",
       "       0.09028816, 0.24473369, 0.2444309 , 0.4678471 , 0.28281832,\n",
       "       0.78493166, 0.6870277 , 0.91283643, 0.03349817, 0.66759694],\n",
       "      dtype=float32)>"
      ]
     },
     "execution_count": 7,
     "metadata": {},
     "output_type": "execute_result"
    }
   ],
   "source": [
    "a"
   ]
  },
  {
   "cell_type": "code",
   "execution_count": 8,
   "id": "352c6b2a",
   "metadata": {},
   "outputs": [
    {
     "data": {
      "text/plain": [
       "<tf.Tensor: id=16, shape=(), dtype=int64, numpy=10>"
      ]
     },
     "execution_count": 8,
     "metadata": {},
     "output_type": "execute_result"
    }
   ],
   "source": [
    "# find the index of the max number\n",
    "tf.argmax(a)"
   ]
  },
  {
   "cell_type": "code",
   "execution_count": 9,
   "id": "21d699d6",
   "metadata": {},
   "outputs": [
    {
     "data": {
      "text/plain": [
       "<tf.Tensor: id=25, shape=(), dtype=float32, numpy=0.9930073>"
      ]
     },
     "execution_count": 9,
     "metadata": {},
     "output_type": "execute_result"
    }
   ],
   "source": [
    "# show the max number\n",
    "a[tf.argmax(a)]"
   ]
  },
  {
   "cell_type": "code",
   "execution_count": 10,
   "id": "347015d4",
   "metadata": {},
   "outputs": [],
   "source": [
    "# check whether it is the max\n",
    "assert tf.reduce_max(a) == a[tf.argmax(a)]"
   ]
  },
  {
   "cell_type": "code",
   "execution_count": 12,
   "id": "33d9c228",
   "metadata": {},
   "outputs": [
    {
     "data": {
      "text/plain": [
       "<tf.Tensor: id=41, shape=(), dtype=int64, numpy=17>"
      ]
     },
     "execution_count": 12,
     "metadata": {},
     "output_type": "execute_result"
    }
   ],
   "source": [
    "# find the index of the min number\n",
    "tf.argmin(a)"
   ]
  },
  {
   "cell_type": "code",
   "execution_count": 13,
   "id": "ec80b431",
   "metadata": {},
   "outputs": [
    {
     "data": {
      "text/plain": [
       "<tf.Tensor: id=50, shape=(), dtype=float32, numpy=0.00805974>"
      ]
     },
     "execution_count": 13,
     "metadata": {},
     "output_type": "execute_result"
    }
   ],
   "source": [
    "# show the min number\n",
    "a[tf.argmin(a)]"
   ]
  },
  {
   "cell_type": "code",
   "execution_count": 14,
   "id": "a284c4b0",
   "metadata": {},
   "outputs": [],
   "source": [
    "# check\n",
    "assert tf.reduce_min(a) == a[tf.argmin(a)]"
   ]
  },
  {
   "cell_type": "code",
   "execution_count": null,
   "id": "096fdaab",
   "metadata": {},
   "outputs": [],
   "source": []
  }
 ],
 "metadata": {
  "kernelspec": {
   "display_name": "tf2",
   "language": "python",
   "name": "tf2"
  },
  "language_info": {
   "codemirror_mode": {
    "name": "ipython",
    "version": 3
   },
   "file_extension": ".py",
   "mimetype": "text/x-python",
   "name": "python",
   "nbconvert_exporter": "python",
   "pygments_lexer": "ipython3",
   "version": "3.7.11"
  }
 },
 "nbformat": 4,
 "nbformat_minor": 5
}
