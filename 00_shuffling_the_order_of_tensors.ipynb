{
 "cells": [
  {
   "cell_type": "code",
   "execution_count": 1,
   "id": "34c3a46c",
   "metadata": {},
   "outputs": [],
   "source": [
    "import tensorflow as tf"
   ]
  },
  {
   "cell_type": "code",
   "execution_count": 11,
   "id": "f7f08853",
   "metadata": {},
   "outputs": [
    {
     "name": "stdout",
     "output_type": "stream",
     "text": [
      "tf.Tensor(\n",
      "[[0.52854156 0.42819154 0.45035434]\n",
      " [0.9802803  0.68966055 0.02345836]\n",
      " [0.42223263 0.82452154 0.5857358 ]\n",
      " [0.776384   0.26451886 0.7128879 ]\n",
      " [0.33855987 0.51591027 0.65031374]], shape=(5, 3), dtype=float32)\n"
     ]
    }
   ],
   "source": [
    "# tf.random.set_seed(34)\n",
    "not_shuffled = tf.random.uniform([5, 3])\n",
    "print(not_shuffled)"
   ]
  },
  {
   "cell_type": "markdown",
   "id": "13db3586",
   "metadata": {},
   "source": [
    "### Without seed: the shuffle result will be differente at each time. "
   ]
  },
  {
   "cell_type": "code",
   "execution_count": 14,
   "id": "ff9a780c",
   "metadata": {},
   "outputs": [
    {
     "data": {
      "text/plain": [
       "<tf.Tensor: id=22, shape=(5, 3), dtype=float32, numpy=\n",
       "array([[0.42223263, 0.82452154, 0.5857358 ],\n",
       "       [0.52854156, 0.42819154, 0.45035434],\n",
       "       [0.776384  , 0.26451886, 0.7128879 ],\n",
       "       [0.9802803 , 0.68966055, 0.02345836],\n",
       "       [0.33855987, 0.51591027, 0.65031374]], dtype=float32)>"
      ]
     },
     "execution_count": 14,
     "metadata": {},
     "output_type": "execute_result"
    }
   ],
   "source": [
    "tf.random.shuffle(not_shuffled)"
   ]
  },
  {
   "cell_type": "code",
   "execution_count": 15,
   "id": "f3e3d7e6",
   "metadata": {},
   "outputs": [
    {
     "data": {
      "text/plain": [
       "<tf.Tensor: id=23, shape=(5, 3), dtype=float32, numpy=\n",
       "array([[0.776384  , 0.26451886, 0.7128879 ],\n",
       "       [0.52854156, 0.42819154, 0.45035434],\n",
       "       [0.33855987, 0.51591027, 0.65031374],\n",
       "       [0.42223263, 0.82452154, 0.5857358 ],\n",
       "       [0.9802803 , 0.68966055, 0.02345836]], dtype=float32)>"
      ]
     },
     "execution_count": 15,
     "metadata": {},
     "output_type": "execute_result"
    }
   ],
   "source": [
    "tf.random.shuffle(not_shuffled)"
   ]
  },
  {
   "cell_type": "code",
   "execution_count": 16,
   "id": "f7b66ce5",
   "metadata": {},
   "outputs": [
    {
     "data": {
      "text/plain": [
       "<tf.Tensor: id=24, shape=(5, 3), dtype=float32, numpy=\n",
       "array([[0.776384  , 0.26451886, 0.7128879 ],\n",
       "       [0.9802803 , 0.68966055, 0.02345836],\n",
       "       [0.52854156, 0.42819154, 0.45035434],\n",
       "       [0.42223263, 0.82452154, 0.5857358 ],\n",
       "       [0.33855987, 0.51591027, 0.65031374]], dtype=float32)>"
      ]
     },
     "execution_count": 16,
     "metadata": {},
     "output_type": "execute_result"
    }
   ],
   "source": [
    "tf.random.shuffle(not_shuffled)"
   ]
  },
  {
   "cell_type": "markdown",
   "id": "9b697542",
   "metadata": {},
   "source": [
    "### With seed: the shuffle result will be the same at each time."
   ]
  },
  {
   "cell_type": "markdown",
   "id": "89b0bbcb",
   "metadata": {},
   "source": [
    "The global seed and the operation seed should both be set as the same for every time."
   ]
  },
  {
   "cell_type": "code",
   "execution_count": 33,
   "id": "686e62e1",
   "metadata": {},
   "outputs": [
    {
     "data": {
      "text/plain": [
       "<tf.Tensor: id=38, shape=(3, 2), dtype=int32, numpy=\n",
       "array([[10,  7],\n",
       "       [ 3,  4],\n",
       "       [ 2,  5]], dtype=int32)>"
      ]
     },
     "execution_count": 33,
     "metadata": {},
     "output_type": "execute_result"
    }
   ],
   "source": [
    "tf.random.set_seed(41)\n",
    "tf.random.shuffle(not_shuffled, seed=2)"
   ]
  },
  {
   "cell_type": "code",
   "execution_count": 34,
   "id": "bc905af7",
   "metadata": {},
   "outputs": [
    {
     "data": {
      "text/plain": [
       "<tf.Tensor: id=39, shape=(3, 2), dtype=int32, numpy=\n",
       "array([[10,  7],\n",
       "       [ 3,  4],\n",
       "       [ 2,  5]], dtype=int32)>"
      ]
     },
     "execution_count": 34,
     "metadata": {},
     "output_type": "execute_result"
    }
   ],
   "source": [
    "tf.random.set_seed(41)\n",
    "tf.random.shuffle(not_shuffled, seed=2)"
   ]
  },
  {
   "cell_type": "code",
   "execution_count": null,
   "id": "0a4fe0ba",
   "metadata": {},
   "outputs": [],
   "source": []
  }
 ],
 "metadata": {
  "kernelspec": {
   "display_name": "tf2",
   "language": "python",
   "name": "tf2"
  },
  "language_info": {
   "codemirror_mode": {
    "name": "ipython",
    "version": 3
   },
   "file_extension": ".py",
   "mimetype": "text/x-python",
   "name": "python",
   "nbconvert_exporter": "python",
   "pygments_lexer": "ipython3",
   "version": "3.7.0"
  }
 },
 "nbformat": 4,
 "nbformat_minor": 5
}
