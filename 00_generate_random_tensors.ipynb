{
 "cells": [
  {
   "cell_type": "markdown",
   "metadata": {},
   "source": [
    "how to set seed: https://www.tensorflow.org/api_docs/python/tf/random/set_seed"
   ]
  },
  {
   "cell_type": "code",
   "execution_count": 1,
   "metadata": {},
   "outputs": [],
   "source": [
    "import tensorflow as tf"
   ]
  },
  {
   "cell_type": "code",
   "execution_count": 2,
   "metadata": {},
   "outputs": [
    {
     "data": {
      "text/plain": [
       "(<tf.Tensor: id=29, shape=(3, 4), dtype=bool, numpy=\n",
       " array([[ True,  True,  True,  True],\n",
       "        [ True,  True,  True,  True],\n",
       "        [ True,  True,  True,  True]])>,\n",
       " <tf.Tensor: id=30, shape=(3, 4), dtype=bool, numpy=\n",
       " array([[ True,  True,  True,  True],\n",
       "        [ True,  True,  True,  True],\n",
       "        [ True,  True,  True,  True]])>)"
      ]
     },
     "execution_count": 2,
     "metadata": {},
     "output_type": "execute_result"
    }
   ],
   "source": [
    "# set global seed, generate data from uniform distribution\n",
    "# Calling tf.random.set_seed will reset\n",
    "\n",
    "tf.random.set_seed(41)\n",
    "a1 = tf.random.uniform([3, 4])\n",
    "a2 = tf.random.uniform([3, 4])\n",
    "tf.random.set_seed(41)\n",
    "b1 = tf.random.uniform([3, 4])\n",
    "b2= tf.random.uniform([3, 4])\n",
    "\n",
    "a1 == b1, a2 == b2"
   ]
  },
  {
   "cell_type": "code",
   "execution_count": 38,
   "metadata": {},
   "outputs": [
    {
     "data": {
      "text/plain": [
       "<tf.Tensor: id=539, shape=(3, 4), dtype=float32, numpy=\n",
       "array([[0.99904716, 0.14571881, 0.44707942, 0.98799264],\n",
       "       [0.34303963, 0.9633211 , 0.82642746, 0.05665267],\n",
       "       [0.10475743, 0.22526276, 0.19121397, 0.13528359]], dtype=float32)>"
      ]
     },
     "execution_count": 38,
     "metadata": {},
     "output_type": "execute_result"
    }
   ],
   "source": [
    "# set operation seed\n",
    "tf.random.uniform([3, 4], seed=1)"
   ]
  },
  {
   "cell_type": "code",
   "execution_count": 39,
   "metadata": {},
   "outputs": [
    {
     "data": {
      "text/plain": [
       "<tf.Tensor: id=546, shape=(3, 4), dtype=float32, numpy=\n",
       "array([[0.02549303, 0.04059029, 0.27095473, 0.3669634 ],\n",
       "       [0.06870067, 0.50469637, 0.70100105, 0.97114563],\n",
       "       [0.335554  , 0.2977351 , 0.8496797 , 0.63130164]], dtype=float32)>"
      ]
     },
     "execution_count": 39,
     "metadata": {},
     "output_type": "execute_result"
    }
   ],
   "source": [
    "tf.random.uniform([3, 4], seed=1)"
   ]
  },
  {
   "cell_type": "code",
   "execution_count": 34,
   "metadata": {},
   "outputs": [
    {
     "data": {
      "text/plain": [
       "(<tf.Tensor: id=510, shape=(3, 4), dtype=bool, numpy=\n",
       " array([[ True,  True,  True,  True],\n",
       "        [ True,  True,  True,  True],\n",
       "        [ True,  True,  True,  True]])>,\n",
       " <tf.Tensor: id=511, shape=(3, 4), dtype=bool, numpy=\n",
       " array([[ True,  True,  True,  True],\n",
       "        [ True,  True,  True,  True],\n",
       "        [ True,  True,  True,  True]])>)"
      ]
     },
     "execution_count": 34,
     "metadata": {},
     "output_type": "execute_result"
    }
   ],
   "source": [
    "# @tf.function is like to re-run the program\n",
    "@tf.function\n",
    "def f():\n",
    "    a = tf.random.uniform([3, 4], seed=1)\n",
    "    b = tf.random.uniform([3, 4], seed=1)\n",
    "    return a,b\n",
    "\n",
    "@tf.function\n",
    "def g():\n",
    "    a = tf.random.uniform([3, 4], seed=1)\n",
    "    b = tf.random.uniform([3, 4], seed=1)\n",
    "    return a,b\n",
    "\n",
    "a1, b1 = f()\n",
    "a2, b2 = g()\n",
    "\n",
    "a1 == a2, b1 == b2"
   ]
  },
  {
   "cell_type": "code",
   "execution_count": 3,
   "metadata": {},
   "outputs": [
    {
     "name": "stdout",
     "output_type": "stream",
     "text": [
      "tf.Tensor([0.2390374], shape=(1,), dtype=float32)\n",
      "tf.Tensor([0.22267115], shape=(1,), dtype=float32)\n"
     ]
    }
   ],
   "source": [
    "# if interrupt the kernel and run again, it will be reset\n",
    "print(tf.random.uniform([1], seed=1))  # generates 'A1'\n",
    "print(tf.random.uniform([1], seed=1))  # generates 'A2'"
   ]
  },
  {
   "cell_type": "code",
   "execution_count": 2,
   "metadata": {},
   "outputs": [
    {
     "name": "stdout",
     "output_type": "stream",
     "text": [
      "tf.Tensor([0.2390374], shape=(1,), dtype=float32)\n",
      "tf.Tensor([0.22267115], shape=(1,), dtype=float32)\n"
     ]
    }
   ],
   "source": [
    "print(tf.random.uniform([1], seed=1))  # generates 'A1'\n",
    "print(tf.random.uniform([1], seed=1))  # generates 'A2'"
   ]
  },
  {
   "cell_type": "code",
   "execution_count": 7,
   "metadata": {},
   "outputs": [
    {
     "name": "stdout",
     "output_type": "stream",
     "text": [
      "(<tf.Tensor: id=126, shape=(1,), dtype=float32, numpy=array([0.2390374], dtype=float32)>, <tf.Tensor: id=127, shape=(1,), dtype=float32, numpy=array([0.2390374], dtype=float32)>)\n",
      "(<tf.Tensor: id=128, shape=(1,), dtype=float32, numpy=array([0.22267115], dtype=float32)>, <tf.Tensor: id=129, shape=(1,), dtype=float32, numpy=array([0.22267115], dtype=float32)>)\n"
     ]
    }
   ],
   "source": [
    "# \n",
    "@tf.function\n",
    "def foo():\n",
    "    a = tf.random.uniform([1], seed=1)\n",
    "    b = tf.random.uniform([1], seed=1)\n",
    "    return a,b\n",
    "\n",
    "print(foo())  # prints '(A1, A1)'\n",
    "print(foo())  # prints '(A2, A2)'"
   ]
  },
  {
   "cell_type": "code",
   "execution_count": 6,
   "metadata": {},
   "outputs": [
    {
     "name": "stdout",
     "output_type": "stream",
     "text": [
      "(<tf.Tensor: id=103, shape=(1,), dtype=float32, numpy=array([0.16628528], dtype=float32)>, <tf.Tensor: id=104, shape=(1,), dtype=float32, numpy=array([0.34695327], dtype=float32)>)\n",
      "(<tf.Tensor: id=105, shape=(1,), dtype=float32, numpy=array([0.7221612], dtype=float32)>, <tf.Tensor: id=106, shape=(1,), dtype=float32, numpy=array([0.23924577], dtype=float32)>)\n"
     ]
    }
   ],
   "source": [
    "@tf.function\n",
    "def bar():\n",
    "    a = tf.random.uniform([1])\n",
    "    b = tf.random.uniform([1])\n",
    "    return a,b\n",
    "print(bar())  # prints '(A1, A2)'\n",
    "print(bar())  # prints '(A3, A4)'"
   ]
  },
  {
   "cell_type": "code",
   "execution_count": 11,
   "metadata": {},
   "outputs": [
    {
     "name": "stdout",
     "output_type": "stream",
     "text": [
      "(<tf.Tensor: id=182, shape=(1,), dtype=float32, numpy=array([0.17481351], dtype=float32)>, <tf.Tensor: id=183, shape=(1,), dtype=float32, numpy=array([0.17481351], dtype=float32)>)\n",
      "(<tf.Tensor: id=184, shape=(1,), dtype=float32, numpy=array([0.17481351], dtype=float32)>, <tf.Tensor: id=185, shape=(1,), dtype=float32, numpy=array([0.17481351], dtype=float32)>)\n"
     ]
    }
   ],
   "source": [
    "@tf.function\n",
    "def f():\n",
    "    a = tf.random.stateless_uniform([1], seed=(2, 3))\n",
    "    b = tf.random.stateless_uniform([1], seed=(2, 3))\n",
    "    return a,b\n",
    "print(f())\n",
    "print(f())"
   ]
  },
  {
   "cell_type": "code",
   "execution_count": null,
   "metadata": {},
   "outputs": [],
   "source": []
  }
 ],
 "metadata": {
  "kernelspec": {
   "display_name": "tf2",
   "language": "python",
   "name": "tf2"
  },
  "language_info": {
   "codemirror_mode": {
    "name": "ipython",
    "version": 3
   },
   "file_extension": ".py",
   "mimetype": "text/x-python",
   "name": "python",
   "nbconvert_exporter": "python",
   "pygments_lexer": "ipython3",
   "version": "3.7.0"
  }
 },
 "nbformat": 4,
 "nbformat_minor": 2
}
