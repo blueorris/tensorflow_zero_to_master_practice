{
 "cells": [
  {
   "cell_type": "code",
   "execution_count": 1,
   "id": "3821d0ab",
   "metadata": {},
   "outputs": [],
   "source": [
    "import tensorflow as tf"
   ]
  },
  {
   "cell_type": "code",
   "execution_count": 4,
   "id": "a0e4feeb",
   "metadata": {},
   "outputs": [],
   "source": [
    "a = tf.random.uniform([50], seed=4)\n",
    "a = tf.constant(a, shape=(1, 1, 1, 1, 50))"
   ]
  },
  {
   "cell_type": "code",
   "execution_count": 5,
   "id": "8a43c016",
   "metadata": {},
   "outputs": [
    {
     "data": {
      "text/plain": [
       "<tf.Tensor: id=17, shape=(1, 1, 1, 1, 50), dtype=float32, numpy=\n",
       "array([[[[[0.9565817 , 0.26681077, 0.9977977 , 0.845893  , 0.03018367,\n",
       "           0.28946888, 0.7191261 , 0.84040856, 0.32028878, 0.27541375,\n",
       "           0.9154061 , 0.01890194, 0.67556155, 0.02087057, 0.2739352 ,\n",
       "           0.47229004, 0.29524934, 0.13074374, 0.21948028, 0.11243081,\n",
       "           0.07408285, 0.31178033, 0.1638403 , 0.7901647 , 0.4928862 ,\n",
       "           0.65654695, 0.61745095, 0.9085907 , 0.03498507, 0.07261336,\n",
       "           0.99893355, 0.18936598, 0.3119545 , 0.2672447 , 0.9966767 ,\n",
       "           0.41235662, 0.05918396, 0.37070823, 0.29925835, 0.9600891 ,\n",
       "           0.58582187, 0.9471878 , 0.6681279 , 0.6750519 , 0.6342546 ,\n",
       "           0.09280837, 0.22887945, 0.98848057, 0.12016737, 0.02176714]]]]],\n",
       "      dtype=float32)>"
      ]
     },
     "execution_count": 5,
     "metadata": {},
     "output_type": "execute_result"
    }
   ],
   "source": [
    "a"
   ]
  },
  {
   "cell_type": "code",
   "execution_count": 13,
   "id": "4d018c8c",
   "metadata": {},
   "outputs": [
    {
     "data": {
      "text/plain": [
       "<tf.Tensor: id=21, shape=(50,), dtype=float32, numpy=\n",
       "array([0.9565817 , 0.26681077, 0.9977977 , 0.845893  , 0.03018367,\n",
       "       0.28946888, 0.7191261 , 0.84040856, 0.32028878, 0.27541375,\n",
       "       0.9154061 , 0.01890194, 0.67556155, 0.02087057, 0.2739352 ,\n",
       "       0.47229004, 0.29524934, 0.13074374, 0.21948028, 0.11243081,\n",
       "       0.07408285, 0.31178033, 0.1638403 , 0.7901647 , 0.4928862 ,\n",
       "       0.65654695, 0.61745095, 0.9085907 , 0.03498507, 0.07261336,\n",
       "       0.99893355, 0.18936598, 0.3119545 , 0.2672447 , 0.9966767 ,\n",
       "       0.41235662, 0.05918396, 0.37070823, 0.29925835, 0.9600891 ,\n",
       "       0.58582187, 0.9471878 , 0.6681279 , 0.6750519 , 0.6342546 ,\n",
       "       0.09280837, 0.22887945, 0.98848057, 0.12016737, 0.02176714],\n",
       "      dtype=float32)>"
      ]
     },
     "execution_count": 13,
     "metadata": {},
     "output_type": "execute_result"
    }
   ],
   "source": [
    "tf.squeeze(a)"
   ]
  },
  {
   "cell_type": "code",
   "execution_count": null,
   "id": "d58d5e47",
   "metadata": {},
   "outputs": [],
   "source": []
  }
 ],
 "metadata": {
  "kernelspec": {
   "display_name": "tf2",
   "language": "python",
   "name": "tf2"
  },
  "language_info": {
   "codemirror_mode": {
    "name": "ipython",
    "version": 3
   },
   "file_extension": ".py",
   "mimetype": "text/x-python",
   "name": "python",
   "nbconvert_exporter": "python",
   "pygments_lexer": "ipython3",
   "version": "3.7.11"
  }
 },
 "nbformat": 4,
 "nbformat_minor": 5
}
