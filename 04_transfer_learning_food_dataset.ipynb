{
 "cells": [
  {
   "cell_type": "code",
   "execution_count": 1,
   "id": "08072867",
   "metadata": {},
   "outputs": [],
   "source": [
    "import tensorflow as tf\n",
    "import ssl\n",
    "ssl._create_default_https_context = ssl._create_unverified_context"
   ]
  },
  {
   "cell_type": "code",
   "execution_count": 2,
   "id": "5b5268e9",
   "metadata": {
    "scrolled": true
   },
   "outputs": [
    {
     "name": "stdout",
     "output_type": "stream",
     "text": [
      "There are 2 directories and 1 images in '10_food_classes_10_percent/'.\n",
      "There are 10 directories and 0 images in '10_food_classes_10_percent/test'.\n",
      "There are 0 directories and 250 images in 'test/ice_cream'.\n",
      "There are 0 directories and 250 images in 'test/chicken_curry'.\n",
      "There are 0 directories and 250 images in 'test/steak'.\n",
      "There are 0 directories and 250 images in 'test/sushi'.\n",
      "There are 0 directories and 250 images in 'test/chicken_wings'.\n",
      "There are 0 directories and 250 images in 'test/grilled_salmon'.\n",
      "There are 0 directories and 250 images in 'test/hamburger'.\n",
      "There are 0 directories and 250 images in 'test/pizza'.\n",
      "There are 0 directories and 250 images in 'test/ramen'.\n",
      "There are 0 directories and 250 images in 'test/fried_rice'.\n",
      "There are 10 directories and 0 images in '10_food_classes_10_percent/train'.\n",
      "There are 0 directories and 75 images in 'train/ice_cream'.\n",
      "There are 0 directories and 75 images in 'train/chicken_curry'.\n",
      "There are 0 directories and 75 images in 'train/steak'.\n",
      "There are 0 directories and 75 images in 'train/sushi'.\n",
      "There are 0 directories and 75 images in 'train/chicken_wings'.\n",
      "There are 0 directories and 75 images in 'train/grilled_salmon'.\n",
      "There are 0 directories and 75 images in 'train/hamburger'.\n",
      "There are 0 directories and 75 images in 'train/pizza'.\n",
      "There are 0 directories and 75 images in 'train/ramen'.\n",
      "There are 0 directories and 75 images in 'train/fried_rice'.\n"
     ]
    }
   ],
   "source": [
    "import os\n",
    "\n",
    "data_path = '/Users/jiayunwang/Documents/datasets/10_food_classes_10_percent/'\n",
    "# Walk through 10 percent data directory and list number of files\n",
    "for dirpath, dirnames, filenames in os.walk(data_path):\n",
    "    class_name = '/'.join(dirpath.split(\"/\")[-2:])\n",
    "    print(f\"There are {len(dirnames)} directories and {len(filenames)} images in '{class_name}'.\")"
   ]
  },
  {
   "cell_type": "code",
   "execution_count": 3,
   "id": "3eab125e",
   "metadata": {},
   "outputs": [
    {
     "name": "stdout",
     "output_type": "stream",
     "text": [
      "Training images:\n",
      "Found 750 images belonging to 10 classes.\n",
      "Test images:\n",
      "Found 2500 images belonging to 10 classes.\n"
     ]
    }
   ],
   "source": [
    "from tensorflow.keras.preprocessing.image import ImageDataGenerator\n",
    "\n",
    "IMAGE_SIZE = (224, 224)\n",
    "BATCH_SIZE = 32\n",
    "\n",
    "train_dir = data_path + 'train/'\n",
    "test_dir = data_path + 'test/'\n",
    "\n",
    "train_data_gen = ImageDataGenerator(rescale=1/255.)\n",
    "test_data_gen = ImageDataGenerator(rescale=1/255.)\n",
    "\n",
    "print('Training images:')\n",
    "train_data_10_percent = train_data_gen.flow_from_directory(train_dir,\n",
    "                                                          target_size=IMAGE_SIZE,\n",
    "                                                          batch_size=BATCH_SIZE,\n",
    "                                                          class_mode='categorical')\n",
    "print('Test images:')\n",
    "test_data_10_percent = test_data_gen.flow_from_directory(test_dir,\n",
    "                                                        target_size=IMAGE_SIZE,\n",
    "                                                        batch_size=BATCH_SIZE,\n",
    "                                                        class_mode='categorical')"
   ]
  },
  {
   "cell_type": "code",
   "execution_count": 4,
   "id": "e09567ba",
   "metadata": {},
   "outputs": [],
   "source": [
    "import datetime\n",
    "\n",
    "def create_tensorboard_callback(dir_name, experiment_name):\n",
    "    log_dir = dir_name + '/' + experiment_name + '/' + datetime.datetime.now().strftime('%Y%m%d-%H%M%S')\n",
    "    tensorboard_callback = tf.keras.callbacks.TensorBoard(lot_dir=log_dir)\n",
    "    print(f'Saving TensorBoard log files to: {log_dir}')\n",
    "    return tensorboard_callback"
   ]
  },
  {
   "cell_type": "code",
   "execution_count": 5,
   "id": "81e8643c",
   "metadata": {},
   "outputs": [],
   "source": [
    "import tensorflow as tf\n",
    "import tensorflow_hub as hub\n",
    "from tensorflow.keras import layers"
   ]
  },
  {
   "cell_type": "code",
   "execution_count": 6,
   "id": "22102e08",
   "metadata": {},
   "outputs": [],
   "source": [
    "# Resnet 50 V2 feature vector\n",
    "resnet_url = \"https://tfhub.dev/google/imagenet/resnet_v2_50/feature_vector/4\"\n",
    "\n",
    "# Original: EfficientNetB0 feature vector (version 1)\n",
    "efficientnet_url = \"https://tfhub.dev/tensorflow/efficientnet/b0/feature-vector/1\""
   ]
  },
  {
   "cell_type": "code",
   "execution_count": 7,
   "id": "fd887464",
   "metadata": {},
   "outputs": [],
   "source": [
    "def create_model(model_url, num_classes=10):\n",
    "    \"\"\"Takes a TensorFlow Hub URL and creates a Keras Sequential model with it.\n",
    "\n",
    "    Args:\n",
    "    model_url (str): A TensorFlow Hub feature extraction URL.\n",
    "    num_classes (int): Number of output neurons in output layer,\n",
    "      should be equal to number of target classes, default 10.\n",
    "\n",
    "    Returns:\n",
    "    An uncompiled Keras Sequential model with model_url as feature\n",
    "    extractor layer and Dense output layer with num_classes outputs.\n",
    "    \"\"\"\n",
    "    # Download the pretrained model and save it as a Keras layer\n",
    "    feature_extractor_layer = hub.KerasLayer(model_url,\n",
    "                                           trainable=False, # freeze the underlying patterns\n",
    "                                           name='feature_extraction_layer',\n",
    "                                           input_shape=IMAGE_SIZE+(3,)) # define the input image shape\n",
    "\n",
    "    # Create our own model\n",
    "    model = tf.keras.Sequential([\n",
    "    feature_extractor_layer, # use the feature extraction layer as the base\n",
    "    layers.Dense(num_classes, activation='softmax', name='output_layer') # create our own output layer      \n",
    "    ])\n",
    "\n",
    "    return model"
   ]
  },
  {
   "cell_type": "code",
   "execution_count": 10,
   "id": "1f3d0788",
   "metadata": {},
   "outputs": [],
   "source": [
    "# Create model\n",
    "# download is slow\n",
    "resnet_model = create_model(resnet_url, num_classes=train_data_10_percent.num_classes)\n",
    "\n",
    "# # Compile\n",
    "# resnet_model.compile(loss='categorical_crossentropy',\n",
    "#                      optimizer=tf.keras.optimizers.Adam(),\n",
    "#                      metrics=['accuracy'])"
   ]
  },
  {
   "cell_type": "code",
   "execution_count": null,
   "id": "a5d4dad4",
   "metadata": {},
   "outputs": [],
   "source": []
  },
  {
   "cell_type": "code",
   "execution_count": null,
   "id": "bf6246c5",
   "metadata": {},
   "outputs": [],
   "source": []
  }
 ],
 "metadata": {
  "kernelspec": {
   "display_name": "tf2",
   "language": "python",
   "name": "tf2"
  },
  "language_info": {
   "codemirror_mode": {
    "name": "ipython",
    "version": 3
   },
   "file_extension": ".py",
   "mimetype": "text/x-python",
   "name": "python",
   "nbconvert_exporter": "python",
   "pygments_lexer": "ipython3",
   "version": "3.7.11"
  }
 },
 "nbformat": 4,
 "nbformat_minor": 5
}
